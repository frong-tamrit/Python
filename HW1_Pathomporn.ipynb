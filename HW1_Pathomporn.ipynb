{
  "cells": [
    {
      "cell_type": "markdown",
      "id": "8f868eb6",
      "metadata": {
        "id": "8f868eb6"
      },
      "source": [
        "# Homework 1\n"
      ]
    },
    {
      "cell_type": "markdown",
      "id": "f47683d8",
      "metadata": {
        "id": "f47683d8"
      },
      "source": [
        "## Task 1  (1 point)\n",
        "\n",
        "What is prime number?\n",
        "\n",
        "`A number that can only be divided by itself and 1 without remainders. (Note: Prime number > 1)`\n",
        "\n",
        "Write a program that receive two positive integers by the user, then print all the prime numbers between these two integers.\n",
        "\n",
        "Second step, print the average of all these prime numbers."
      ]
    },
    {
      "cell_type": "code",
      "execution_count": null,
      "id": "2d62ba3d",
      "metadata": {
        "colab": {
          "base_uri": "https://localhost:8080/"
        },
        "id": "2d62ba3d",
        "outputId": "6777036f-ee16-405e-e7c4-6eb830b86fee"
      },
      "outputs": [
        {
          "output_type": "stream",
          "name": "stdout",
          "text": [
            "first number: 1\n",
            "second number: 20\n",
            "[2, 3, 5, 7, 11, 13, 17, 19]\n",
            "The average of all these prime numbers is 9.625\n"
          ]
        }
      ],
      "source": [
        "num1 = int(input(\"first number: \"))\n",
        "num2 = int(input(\"second number: \"))\n",
        "prime_num = []\n",
        "for i in range(num1,num2): #the direction was \"all the prime numbers between these two integers\" so the num2 isn't included.\n",
        "    if i > 1:\n",
        "        for x in range (2,i):\n",
        "            if i % x == 0:\n",
        "                break\n",
        "        else:\n",
        "            prime_num.append(i)\n",
        "print(prime_num)\n",
        "print(f'The average of all these prime numbers is {sum(prime_num)/len(prime_num)}')"
      ]
    },
    {
      "cell_type": "markdown",
      "id": "d03af2f7",
      "metadata": {
        "id": "d03af2f7"
      },
      "source": [
        "## Task 2 (1 point)\n",
        "\n",
        "Write a program that receives a positive integer `N` from the user, the task is to find following formula:\n",
        "\n",
        "$$\n",
        "1^2 + 2^3 + 3^2 + ... + N^2 (or N^3)\n",
        "$$\n",
        "\n",
        "1. If the number is odd then rais to the power of 2.\n",
        "2. If the numner is even then rais to the power of 3.\n",
        "\n",
        "\n",
        "Example:\n",
        "\n",
        "$$\n",
        "N = 5\n",
        "$$\n",
        "\n",
        "$$\n",
        "1^2 + 2^3 + 3^2 + 4^3 + 5^2 = (1 + 8 + 9 + 64 + 25) = 107\n",
        "$$\n"
      ]
    },
    {
      "cell_type": "code",
      "execution_count": 5,
      "id": "53894434",
      "metadata": {
        "colab": {
          "base_uri": "https://localhost:8080/"
        },
        "id": "53894434",
        "outputId": "f1773262-6692-492d-e997-8dd30503f151"
      },
      "outputs": [
        {
          "output_type": "stream",
          "name": "stdout",
          "text": [
            "number: 5\n",
            "107\n"
          ]
        }
      ],
      "source": [
        "num = int(input(\"number: \"))\n",
        "sum = 0\n",
        "for i in range(num+1):\n",
        "    if i % 2 == 0:\n",
        "        sum += i**3\n",
        "    else: sum += i**2\n",
        "print(sum)"
      ]
    },
    {
      "cell_type": "markdown",
      "id": "89040ea7",
      "metadata": {
        "id": "89040ea7"
      },
      "source": [
        "## Task 3  (3 points)\n",
        "\n",
        "Write a python program to rotate the elements of an array with an arbitrary direction (left or right) and arbitrary number or elements.\n",
        "\n",
        "1. The user need to insert the term ('left' or 'right') which shows the direction of the rotation.\n",
        "2. The user need to insert the number d which specifies how many elements need to be rotated.\n",
        "\n",
        "Example:\n",
        "\n",
        "```\n",
        "List (array) = [1, 2, 3, 4, 5, 6, 7]\n",
        "\n",
        "if left shift by 2 elements:\n",
        "\n",
        "Ooutput = [3, 4, 5, 6, 7, 1, 2]\n",
        "```"
      ]
    },
    {
      "cell_type": "code",
      "execution_count": 4,
      "id": "782170f2",
      "metadata": {
        "colab": {
          "base_uri": "https://localhost:8080/"
        },
        "id": "782170f2",
        "outputId": "0d7ed08c-e615-4d5a-fffd-a534033f78ee"
      },
      "outputs": [
        {
          "output_type": "stream",
          "name": "stdout",
          "text": [
            "Please choose direction: left or right ?left\n",
            "Please insert the number of elements: 2\n",
            "[3, 4, 5, 6, 7, 1, 2]\n"
          ]
        }
      ],
      "source": [
        "list_ = [1, 2, 3, 4, 5, 6, 7]\n",
        "direction = input(\"Please choose direction: left or right ?\" )\n",
        "num = int(input(\"Please insert the number of elements: \"))\n",
        "\n",
        "if direction == 'left':\n",
        "    print(list_[num:] + list_[:num])\n",
        "else: print (list_[-num:] + list_ [:-num])"
      ]
    },
    {
      "cell_type": "markdown",
      "id": "9f0f0213",
      "metadata": {
        "id": "9f0f0213"
      },
      "source": [
        "## Task 4  (4 points)\n",
        "\n",
        "**Great Job! You already solved task 3.**\n",
        "\n",
        "Let's develop the idea, now consider a 2D array, and you want to implement a program that not only shift to right or left, but also, it can shift up or down.\n",
        "\n",
        "In this scenario, the user need to insert four different arguments:\n",
        "\n",
        "1. Row shift or column shift? ('row' or 'column')\n",
        "\n",
        "2. Which direction? ('left' or 'right')\n",
        "\n",
        "3. Index of the column or row? (an integer index)\n",
        "\n",
        "4. How many elements need to be shifted? (integer number)"
      ]
    },
    {
      "cell_type": "code",
      "execution_count": 3,
      "id": "c79ed191",
      "metadata": {
        "colab": {
          "base_uri": "https://localhost:8080/"
        },
        "id": "c79ed191",
        "outputId": "153f8fa5-2aac-4655-b6c5-40749f12340c"
      },
      "outputs": [
        {
          "output_type": "stream",
          "name": "stdout",
          "text": [
            "row or column? row\n",
            "left or right? left\n",
            "What row? 2\n",
            "how many elements need to be shifted? 2\n",
            "[1, 2, 3, 4]\n",
            "[7, 8, 5, 6]\n",
            "[9, 10, 11, 12]\n",
            "[13, 14, 15, 16]\n"
          ]
        }
      ],
      "source": [
        "list_ = [[1, 2, 3, 4],\n",
        "        [5, 6, 7, 8],\n",
        "        [9, 10, 11, 12],\n",
        "        [13, 14, 15, 16]]\n",
        "\n",
        "di_1 = input(\"row or column? \")\n",
        "\n",
        "if di_1 == 'row':\n",
        "    di_2 = input(\"left or right? \")\n",
        "    di_3 = int(input(\"What row? \"))\n",
        "    di_4 = int(input(\"how many elements need to be shifted? \"))\n",
        "    if di_2 == 'left':\n",
        "        list_[di_3-1] = list_[di_3-1][di_4:]+list_[di_3-1][:di_4]\n",
        "    else:\n",
        "        list_[di_3-1] = list_[di_3-1][-di_4:]+list_[di_3-1][:-di_4]\n",
        "\n",
        "elif di_1 == 'column':\n",
        "    di_2 = input(\"up or down? \")\n",
        "    di_3 = int(input(\"what column? \"))\n",
        "    di_4 = int(input(\"how many elements need to be shifted? \"))\n",
        "    column = []\n",
        "    new = []\n",
        "    for num_row in list_:\n",
        "            x = num_row[di_3-1]\n",
        "            column.append(x)\n",
        "    if di_2 == 'up':\n",
        "            new =  column[di_4:] +  column[:di_4]\n",
        "    else: new = column[-di_4:] +  column[:-di_4]\n",
        "\n",
        "    for n, num_row in enumerate(list_):\n",
        "            num_row[di_3-1] = new[n]\n",
        "\n",
        "for answer in list_:\n",
        "      print(answer)"
      ]
    },
    {
      "cell_type": "markdown",
      "id": "8a0edbe2",
      "metadata": {
        "id": "8a0edbe2"
      },
      "source": [
        "## Task 5  (1 point)\n",
        "\n",
        "Write a program that splits a list by an index inserted by the user, then cut the list from that index and attach the right part to the beginning of the list.\n",
        "\n",
        "Example:\n",
        "\n",
        "\n",
        "list: [1, 2, 3, 4, **5, 6, 7**]\n",
        "\n",
        "new list: [**5, 6, 7**, 1, 2, 3, 4]"
      ]
    },
    {
      "cell_type": "code",
      "execution_count": 2,
      "id": "5414b2cf",
      "metadata": {
        "colab": {
          "base_uri": "https://localhost:8080/"
        },
        "id": "5414b2cf",
        "outputId": "d6cf1d12-1c33-4672-fe4d-88f65758553e"
      },
      "outputs": [
        {
          "output_type": "stream",
          "name": "stdout",
          "text": [
            "please enter index: 4\n",
            "[5, 6, 7, 1, 2, 3, 4]\n"
          ]
        }
      ],
      "source": [
        "list_ =  [1, 2, 3, 4, 5, 6, 7]\n",
        "index_ = int(input(\"please enter index: \"))\n",
        "\n",
        "print(list_[index_:] + list_ [:index_])"
      ]
    }
  ],
  "metadata": {
    "kernelspec": {
      "display_name": "Python 3 (ipykernel)",
      "language": "python",
      "name": "python3"
    },
    "language_info": {
      "codemirror_mode": {
        "name": "ipython",
        "version": 3
      },
      "file_extension": ".py",
      "mimetype": "text/x-python",
      "name": "python",
      "nbconvert_exporter": "python",
      "pygments_lexer": "ipython3",
      "version": "3.10.9"
    },
    "colab": {
      "provenance": []
    }
  },
  "nbformat": 4,
  "nbformat_minor": 5
}