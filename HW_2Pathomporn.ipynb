{
  "cells": [
    {
      "cell_type": "markdown",
      "id": "8f868eb6",
      "metadata": {
        "id": "8f868eb6"
      },
      "source": [
        "# Homework 2\n"
      ]
    },
    {
      "cell_type": "markdown",
      "id": "f47683d8",
      "metadata": {
        "id": "f47683d8"
      },
      "source": [
        "## Task 1  - Rock, Paper, Scissors (1 point)\n",
        "\n",
        "Let's practice (if, elif, else). In this task you need to write a program that determins the result of the rock, paper, scissors game which is given by two players (Player 1 and Player 2). The program should pring out the result.\n",
        "\n",
        "Rules of the game:\n",
        "- **Paper** beats **rock**\n",
        "- **Scissors** beats **paper**\n",
        "- **Rock** beats **scissors**\n",
        "\n",
        "To understand the logic, write all the combination of the choices for player 1 and player 2 to check the outsomes. It helps you to understand how to write the code.\n",
        "\n",
        "Example of the outcome:\n",
        "```\n",
        "Player 1? scissors\n",
        "Player 2? paper\n",
        "\n",
        "Player 1 wins.\n",
        "```\n",
        "\n",
        "The only valid inputs are `rock`, `paper`, `scissors`. In case the user imported something else, the program prints `\"This input is not valid for our game!\"`"
      ]
    },
    {
      "cell_type": "code",
      "source": [
        "player_1 = input(\"Choose rock, paper or scissors?: \")\n",
        "player_2 = input(\"Choose rock, paper or scissors?: \")\n",
        "if player_1 == 'rock' and player_2 == 'scissors':\n",
        "  print(\"Player 1 wins\")\n",
        "elif player_1 == 'paper' and player_2 == 'rock':\n",
        "    print(\"Player 1 wins\")\n",
        "elif player_1 == 'scissors' and player_2 == 'paper':\n",
        "    print(\"Player 1 wins\")\n",
        "elif player_1 == player_2:\n",
        "    print(\"Draw\")\n",
        "else: print (\"Player 2 wins\")"
      ],
      "metadata": {
        "id": "bl4VA2F-QAWA"
      },
      "id": "bl4VA2F-QAWA",
      "execution_count": null,
      "outputs": []
    },
    {
      "cell_type": "markdown",
      "id": "d03af2f7",
      "metadata": {
        "id": "d03af2f7"
      },
      "source": [
        "## Task 2 (1 point)\n",
        "\n",
        "Write a program to generate the following output by a for loop:\n",
        "\n",
        "Output:\n",
        "\n",
        "```\n",
        "*\n",
        "**\n",
        "***\n",
        "****\n",
        "*****\n",
        "******\n",
        "*******\n",
        "******\n",
        "*****\n",
        "****\n",
        "***\n",
        "**\n",
        "*\n",
        "```\n"
      ]
    },
    {
      "cell_type": "code",
      "execution_count": null,
      "id": "f35ac27c",
      "metadata": {
        "id": "f35ac27c"
      },
      "outputs": [],
      "source": [
        "for i in range (1,8):\n",
        "  print('*'*i)\n",
        "for i in range (6,0,-1):\n",
        "  print('*'*i)\n",
        "\n"
      ]
    },
    {
      "cell_type": "markdown",
      "id": "89040ea7",
      "metadata": {
        "id": "89040ea7"
      },
      "source": [
        "## Task 3 (1 point)\n",
        "\n",
        "**Step 1**: Write a program that returns a list that contains only the elements that are common between the provided lists (without duplicates). Be sure that your program `also` works on the two lists with different sizes.\n",
        "\n",
        "```\n",
        "a = [2, 2, 3, 1, 1, 1, 1, 3, 2, 2, 6, 5, 4, 7, 8, 31]\n",
        "b = [2, 7, 4, 6, 7, 4, 2, 31, 2, 5, 11, 1, 2, 1, 3, 1, 7, 9, 5]\n",
        "```"
      ]
    },
    {
      "cell_type": "code",
      "execution_count": null,
      "id": "782170f2",
      "metadata": {
        "id": "782170f2"
      },
      "outputs": [],
      "source": [
        "a = [2, 2, 3, 1, 1, 1, 1, 3, 2, 2, 6, 5, 4, 7, 8, 31]\n",
        "b = [2, 7, 4, 6, 7, 4, 2, 31, 2, 5, 11, 1, 2, 1, 3, 1, 7, 9, 5]\n",
        "a = set(a)\n",
        "b = set(b)\n",
        "c = a & b\n",
        "print(list(c))"
      ]
    },
    {
      "cell_type": "markdown",
      "id": "248d227a",
      "metadata": {
        "id": "248d227a"
      },
      "source": [
        "**Step 2**: Now try to write the same program in one line."
      ]
    },
    {
      "cell_type": "code",
      "execution_count": null,
      "id": "6e66bf8f",
      "metadata": {
        "id": "6e66bf8f"
      },
      "outputs": [],
      "source": [
        "a = [2, 2, 3, 1, 1, 1, 1, 3, 2, 2, 6, 5, 4, 7, 8, 31]\n",
        "b = [2, 7, 4, 6, 7, 4, 2, 31, 2, 5, 11, 1, 2, 1, 3, 1, 7, 9, 5]\n",
        "print(list(set(a) & set(b)))"
      ]
    },
    {
      "cell_type": "markdown",
      "id": "9f0f0213",
      "metadata": {
        "id": "9f0f0213"
      },
      "source": [
        "## Task 4 (1 point)\n",
        "\n",
        "Write a program to ask the user to insert a string, and print out whether this string is a palindrome or not.\n",
        "\n",
        "**Note:** A string is said to be a palindrome if it is the same if we start reading it from left to right or right to left."
      ]
    },
    {
      "cell_type": "code",
      "execution_count": null,
      "id": "a8905e37",
      "metadata": {
        "id": "a8905e37"
      },
      "outputs": [],
      "source": [
        "word = input(\"please inset a word: \")\n",
        "if word == word[::-1]:\n",
        "    print('Palindrome')\n",
        "else: print ('Not palindrome')"
      ]
    },
    {
      "cell_type": "markdown",
      "id": "8a0edbe2",
      "metadata": {
        "id": "8a0edbe2"
      },
      "source": [
        "## Task 5 (1 point)\n",
        "\n",
        "Let's consider we have saved a list in a variable. E.g. `my_list = [2, 5, 4, 4, 6, 7, 5, 6, 9, 22, 23, 44, 32]`\n",
        "\n",
        "Write only one line program that takes this list and makes a new list that has only the odd elements of this list in it."
      ]
    },
    {
      "cell_type": "code",
      "execution_count": null,
      "id": "5414b2cf",
      "metadata": {
        "id": "5414b2cf"
      },
      "outputs": [],
      "source": [
        "my_list = [2, 5, 4, 4, 6, 7, 5, 6, 9, 22, 23, 44, 32]\n",
        "my_list_odd = [i for i in my_list if i%2!=0]\n",
        "print(my_list_odd)"
      ]
    }
  ],
  "metadata": {
    "kernelspec": {
      "display_name": "Python 3 (ipykernel)",
      "language": "python",
      "name": "python3"
    },
    "language_info": {
      "codemirror_mode": {
        "name": "ipython",
        "version": 3
      },
      "file_extension": ".py",
      "mimetype": "text/x-python",
      "name": "python",
      "nbconvert_exporter": "python",
      "pygments_lexer": "ipython3",
      "version": "3.10.9"
    },
    "colab": {
      "provenance": []
    }
  },
  "nbformat": 4,
  "nbformat_minor": 5
}
