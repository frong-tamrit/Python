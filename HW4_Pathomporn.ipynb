{
  "cells": [
    {
      "cell_type": "markdown",
      "id": "8f868eb6",
      "metadata": {
        "id": "8f868eb6"
      },
      "source": [
        "# Homework 4"
      ]
    },
    {
      "cell_type": "markdown",
      "id": "f47683d8",
      "metadata": {
        "id": "f47683d8"
      },
      "source": [
        "## Task 1  -  (1 point)\n",
        "\n",
        "You are given an array of non-overlapping intervals `intervals` where $intervals[i] = [start_i, end_i]$ represent the start and the end of the $i^{th}$ interval and `intervals` is sorted in ascending order by $start_i$. You are also given an interval `newInterval = [start, end]` that represents the start and end of another inteval.\n",
        "\n",
        "Insert `newInterval` into `intervals` such that `intervals` is still sorted in ascending order by $start_i$ and `intervals` still does not have any overlapping intervals (merge overlapping intervals if necessary).\n",
        "\n",
        "Return `intervals` after the insertion.\n",
        "\n",
        "Example 1:\n",
        "\n",
        "```\n",
        "Input: intervals = [[1,3], [6, 9]], newInterval = [2, 5]\n",
        "Output: [[1, 5], [6, 9]]\n",
        "```\n",
        "\n",
        "Example 2:\n",
        "\n",
        "```\n",
        "Input: intervals = [[1,2],[3,5],[6,7],[8,10],[12,16]], newInterval = [4,8]\n",
        "Output: [[1,2],[3,10],[12,16]]\n",
        "Explanation: Because the new interval [4,8] overlaps with [3,5],[6,7],[8,10].\n",
        "```"
      ]
    },
    {
      "cell_type": "code",
      "execution_count": 44,
      "id": "372b7579",
      "metadata": {
        "id": "372b7579",
        "colab": {
          "base_uri": "https://localhost:8080/"
        },
        "outputId": "521d6c2f-7778-4a15-afc1-3082effeefce"
      },
      "outputs": [
        {
          "output_type": "stream",
          "name": "stdout",
          "text": [
            "[[1,2],[3,5],[6,7],[8,10],[12,16]]\n",
            "[4,8]\n",
            "Output: [[1, 2], [3, 10], [12, 16]]\n"
          ]
        }
      ],
      "source": [
        "def parseIval(str):\n",
        "  x0, y0 = str.split(\",\")\n",
        "  x, y = int(x0), int(y0)\n",
        "  return (x, y-x)\n",
        "\n",
        "ivals = {}\n",
        "ival0s = input()[2:-2].split(\"],[\")\n",
        "ival1_0 = input()[1:-1]\n",
        "\n",
        "for ival0 in [*ival0s, ival1_0]:\n",
        "  x, d = parseIval(ival0)\n",
        "  if x in ivals:\n",
        "    ivals[x] = max(ivals[x], d)\n",
        "  else: ivals[x] = d\n",
        "\n",
        "ival_xs = sorted(ivals.keys())\n",
        "for i in range(len(ival_xs)-1):\n",
        "  x1 = ival_xs[i]\n",
        "  if not x1 in ivals: continue\n",
        "  n1 = ivals[x1]\n",
        "\n",
        "  for j in range(i+1, len(ival_xs)):\n",
        "    x2 = ival_xs[j]\n",
        "    if not x2 in ivals: continue\n",
        "    n2 = ivals[x2]\n",
        "\n",
        "    if x1+n1 >= x2:\n",
        "      n1 = max(x1+n1, x2+n2)-x1\n",
        "      del ivals[x2]\n",
        "    else: break\n",
        "  ivals[x1] = n1\n",
        "\n",
        "ival_xs = sorted(ivals.keys())\n",
        "ival1s = []\n",
        "for x in ival_xs:\n",
        "  ival1s.append([x, x+ivals[x]])\n",
        "print(\"Output:\", ival1s)"
      ]
    },
    {
      "cell_type": "markdown",
      "id": "d03af2f7",
      "metadata": {
        "id": "d03af2f7"
      },
      "source": [
        "## Task 2 (1 point)\n",
        "\n",
        "A **transformation sequence** from word `beginWord` to word `endWord` using a dictinoary `wordList` is a sequence of words $beginWord -> s_1 -> s_2 -> ... -> s_k$ such that:\n",
        "\n",
        "* Every adjacent pair of words differs by a single letter.\n",
        "* Every $s_i$ for `1 <= i <= k` is in `wordList`. Note that `beginWord` does not need to be in `wordList`.\n",
        "* $s_k == endWord$\n",
        "\n",
        "Given two words, `beginWord` and `endWord`, and a dictionary `wordList`, return all the **shortest transformation sequences** from `beginWord` to `endWord`, or an empty list if no such sequence exists. Each sequence should be returned as a list of the words $[beginWord, s_1, s_2, ..., s_k]$\n",
        "\n",
        "Example 1:\n",
        "\n",
        "```\n",
        "Input: beginWord = \"hit\", endWord = \"cog\", wordList = [\"hot\",\"dot\",\"dog\",\"lot\",\"log\",\"cog\"]\n",
        "Output: [[\"hit\",\"hot\",\"dot\",\"dog\",\"cog\"],[\"hit\",\"hot\",\"lot\",\"log\",\"cog\"]]\n",
        "Explanation: There are 2 shortest transformation sequences:\n",
        "\"hit\" -> \"hot\" -> \"dot\" -> \"dog\" -> \"cog\"\n",
        "\"hit\" -> \"hot\" -> \"lot\" -> \"log\" -> \"cog\"\n",
        "```\n",
        "\n",
        "Example 2:\n",
        "\n",
        "```\n",
        "Input: beginWord = \"hit\", endWord = \"cog\", wordList = [\"hot\",\"dot\",\"dog\",\"lot\",\"log\"]\n",
        "Output: []\n",
        "Explanation: The endWord \"cog\" is not in wordList, therefore there is no valid transformation sequence.\n",
        "```"
      ]
    },
    {
      "cell_type": "code",
      "execution_count": 45,
      "id": "f35ac27c",
      "metadata": {
        "id": "f35ac27c",
        "colab": {
          "base_uri": "https://localhost:8080/"
        },
        "outputId": "a5f921ab-c550-43af-df5d-2d4456822b30"
      },
      "outputs": [
        {
          "output_type": "stream",
          "name": "stdout",
          "text": [
            "\"hit\"\n",
            "\"cog\"\n",
            "[\"hot\",\"dot\",\"dog\",\"lot\",\"log\"]\n",
            "[]\n"
          ]
        }
      ],
      "source": [
        "w, w0 = input()[1:-1], input()[1:-1]\n",
        "ws0 = input()[1:-1].split(\",\")\n",
        "ws = {str(x[1:-1]) for x in ws0}\n",
        "\n",
        "def distance(w_x, w_y):\n",
        "  d = 0\n",
        "  for x, y in zip(w_x, w_y):\n",
        "    if x != y: d += 1\n",
        "  return d\n",
        "\n",
        "def search(ws, vd, w, w0):\n",
        "  if w == w0: return [[w0]]\n",
        "\n",
        "  ps = []\n",
        "  for w1 in (ws - vd):\n",
        "    if distance(w, w1) == 1:\n",
        "      ps1 = search(ws, vd | {w}, w1, w0)\n",
        "      for p in ps1: ps.append([w, *p])\n",
        "\n",
        "  if len(ps) > 0:\n",
        "    n_m = min((len(p) for p in ps))\n",
        "    return [p for p in ps if len(p) == n_m]\n",
        "  else: return []\n",
        "\n",
        "print(search(ws, {w}, w, w0))"
      ]
    },
    {
      "cell_type": "markdown",
      "id": "89040ea7",
      "metadata": {
        "id": "89040ea7"
      },
      "source": [
        "## Task 3 (1 point)\n",
        "\n",
        "You are given an integer array `prices` where `prices[i]` is the price of a given stock on the $i^{th}$ day.\n",
        "\n",
        "You want to maximize your profit by choosing a **single day** to buy one stock and choosing a **different day in the future** to sell the stock.\n",
        "\n",
        "Return the maximum profit you can achieve from the transaction. If you cannot achieve any profit, return `0`.\n",
        "\n",
        "Example 1:\n",
        "\n",
        "```\n",
        "Input: prices = [7,1,5,3,6,4]\n",
        "Output: 5\n",
        "Explanation: Buy on day 2 (price = 1) and sell on day 5 (price = 6), profit = 6-1 = 5.\n",
        "Note that buying on day 2 and selling on day 1 is not allowed because you must buy before you sell.\n",
        "```\n",
        "\n",
        "Example 2:\n",
        "\n",
        "```\n",
        "Input: prices = [7,6,4,3,1]\n",
        "Output: 0\n",
        "Explanation: In this case, no transactions are done and the max profit = 0.\n",
        "```"
      ]
    },
    {
      "cell_type": "code",
      "execution_count": 13,
      "id": "782170f2",
      "metadata": {
        "id": "782170f2",
        "colab": {
          "base_uri": "https://localhost:8080/"
        },
        "outputId": "b9df8d16-ee75-48e1-ab75-3b76ee90d4b1"
      },
      "outputs": [
        {
          "output_type": "stream",
          "name": "stdout",
          "text": [
            "[7,6,4,3,1]\n",
            "0\n"
          ]
        }
      ],
      "source": [
        "ps0 = input()[1:-1].split(\",\")\n",
        "ps = [int(x) for x in ps0]\n",
        "\n",
        "p = 0\n",
        "for i in range(len(ps)-1):\n",
        "  p0 = 0\n",
        "  for j in range(i+1, len(ps)-1):\n",
        "    p0 = max(p0, ps[j]-ps[i])\n",
        "  p = max(p, p0)\n",
        "\n",
        "print(p)"
      ]
    },
    {
      "cell_type": "markdown",
      "id": "9f0f0213",
      "metadata": {
        "id": "9f0f0213"
      },
      "source": [
        "## Task 4 (1 point)\n",
        "\n",
        "You are given an integer array `prices` where `prices[i]` is the price of a given stock on the $i^{th}$ day.\n",
        "\n",
        "On each day, you may decide to buy and/or sell the stock. You can only hold **at most one** share of the stock at any time. However, you can buy it then immediatly sell it on the **same day**.\n",
        "\n",
        "Find and return the **maximum** profit you can achieve.\n",
        "\n",
        "Example 1:\n",
        "\n",
        "```\n",
        "Input: prices = [7,1,5,3,6,4]\n",
        "Output: 7\n",
        "Explanation: Buy on day 2 (price = 1) and sell on day 3 (price = 5), profit = 5-1 = 4.\n",
        "Then buy on day 4 (price = 3) and sell on day 5 (price = 6), profit = 6-3 = 3.\n",
        "Total profit is 4 + 3 = 7.\n",
        "```\n",
        "\n",
        "Example 2:\n",
        "\n",
        "```\n",
        "Input: prices = [1,2,3,4,5]\n",
        "Output: 4\n",
        "Explanation: Buy on day 1 (price = 1) and sell on day 5 (price = 5), profit = 5-1 = 4.\n",
        "Total profit is 4.\n",
        "```\n",
        "\n",
        "Example 3:\n",
        "\n",
        "```\n",
        "Input: prices = [7,6,4,3,1]\n",
        "Output: 0\n",
        "Explanation: There is no way to make a positive profit, so we never buy the stock to achieve the maximum profit of 0.\n",
        "```"
      ]
    },
    {
      "cell_type": "code",
      "execution_count": 42,
      "id": "a8905e37",
      "metadata": {
        "id": "a8905e37",
        "colab": {
          "base_uri": "https://localhost:8080/"
        },
        "outputId": "7e8befa3-603a-4c9e-89ee-5f32f7bcb51c"
      },
      "outputs": [
        {
          "output_type": "stream",
          "name": "stdout",
          "text": [
            "[7,1,5,3,6,4]\n",
            "7\n"
          ]
        }
      ],
      "source": [
        "ps0 = input()[1:-1].split(\",\")\n",
        "ps = [int(x) for x in ps0]\n",
        "\n",
        "def search(ps, i0=0, d=0):\n",
        "  pts = [0]\n",
        "  for i in range(i0, len(ps)-1):\n",
        "    for j in range(i+1, len(ps)):\n",
        "      pt = ps[j]-ps[i]\n",
        "      if pt >= 0:\n",
        "        pt1 = search(ps, j+1, d+1)\n",
        "        if pt1 >= 0: pts.append(pt + pt1)\n",
        "  return max(pts)\n",
        "\n",
        "print(search(ps))"
      ]
    },
    {
      "cell_type": "markdown",
      "id": "8a0edbe2",
      "metadata": {
        "id": "8a0edbe2"
      },
      "source": [
        "## Task 5 (1 point)\n",
        "\n",
        "Given an integer array `nums`, return the maximum difference between two successive elements in its sorted form. If the array contains less than two elements, return `0`.\n",
        "\n",
        "You must write an algorithm that runs in linear time and uses linear extra space.\n",
        "\n",
        "Example 1:\n",
        "\n",
        "```\n",
        "Input: nums = [3,6,9,1]\n",
        "Output: 3\n",
        "Explanation: The sorted form of the array is [1,3,6,9], either (3,6) or (6,9) has the maximum difference 3.\n",
        "```\n",
        "\n",
        "Example 2:\n",
        "\n",
        "```\n",
        "Input: nums = [10]\n",
        "Output: 0\n",
        "Explanation: The array contains less than 2 elements, therefore return 0.\n",
        "```"
      ]
    },
    {
      "cell_type": "code",
      "execution_count": null,
      "id": "5414b2cf",
      "metadata": {
        "colab": {
          "base_uri": "https://localhost:8080/"
        },
        "id": "5414b2cf",
        "outputId": "52dd6107-169c-4494-a001-b0651539a88b"
      },
      "outputs": [
        {
          "output_type": "stream",
          "name": "stdout",
          "text": [
            "[3,6,9,1]\n",
            "3\n"
          ]
        }
      ],
      "source": [
        "xs0 = input()[1:-1].split(\",\")\n",
        "xs = sorted([int(x) for x in xs0])\n",
        "\n",
        "d = 0\n",
        "for i in range(len(xs)-1):\n",
        "  d = max(d, xs[i+1]-xs[i])\n",
        "\n",
        "print(d)"
      ]
    }
  ],
  "metadata": {
    "kernelspec": {
      "display_name": "Python 3 (ipykernel)",
      "language": "python",
      "name": "python3"
    },
    "language_info": {
      "codemirror_mode": {
        "name": "ipython",
        "version": 3
      },
      "file_extension": ".py",
      "mimetype": "text/x-python",
      "name": "python",
      "nbconvert_exporter": "python",
      "pygments_lexer": "ipython3",
      "version": "3.10.9"
    },
    "colab": {
      "provenance": []
    }
  },
  "nbformat": 4,
  "nbformat_minor": 5
}