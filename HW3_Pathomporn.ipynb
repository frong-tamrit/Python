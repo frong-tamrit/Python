{
  "cells": [
    {
      "cell_type": "markdown",
      "id": "8f868eb6",
      "metadata": {
        "id": "8f868eb6"
      },
      "source": [
        "# Homework 3"
      ]
    },
    {
      "cell_type": "markdown",
      "id": "f47683d8",
      "metadata": {
        "id": "f47683d8"
      },
      "source": [
        "## Task 1  -  (1 point)\n",
        "\n",
        "Given a string ``my_str``, find the length of the **longest** substring without characters.\n",
        "\n",
        "Example:\n",
        "```\n",
        "Input: my_str = \"hgfgklrmgfkg\"\n",
        "output: 6\n",
        "Explanation: The answer is \"fgklrm\", with the length of 6.\n",
        "```\n",
        "\n",
        "**Note:** Your program should work with any arbitrary input with different lengths."
      ]
    },
    {
      "cell_type": "code",
      "execution_count": 31,
      "id": "372b7579",
      "metadata": {
        "id": "372b7579",
        "colab": {
          "base_uri": "https://localhost:8080/"
        },
        "outputId": "cad04d94-e3c0-4e6d-84bf-01ae4eccb025"
      },
      "outputs": [
        {
          "output_type": "stream",
          "name": "stdout",
          "text": [
            "Input: hgfgklrmgfkg\n",
            "Output: 6\n"
          ]
        }
      ],
      "source": [
        "n, n0, met = 0, 0, dict()\n",
        "str, idx = input(\"Input: \"), 0\n",
        "\n",
        "while idx < len(str):\n",
        "  ch = str[idx]\n",
        "  if ch in met:\n",
        "    idx = met[ch] + 1\n",
        "    met = {}\n",
        "    n0, n = max(n, n0), 0\n",
        "  else:\n",
        "    met[ch] = idx\n",
        "    idx += 1; n += 1\n",
        "\n",
        "n0 = max(n, n0)\n",
        "print(\"Output:\", n0)"
      ]
    },
    {
      "cell_type": "markdown",
      "id": "d03af2f7",
      "metadata": {
        "id": "d03af2f7"
      },
      "source": [
        "## Task 2 (1 point)\n",
        "\n",
        "Given an integer `number`, return `number` with it's digits reversed. Don't consider the the integer to string. Write your code to make this operation on integer.\n",
        "\n",
        "Example:\n",
        "\n",
        "```\n",
        "Input: number = 6842\n",
        "Output: 2486\n",
        "```"
      ]
    },
    {
      "cell_type": "code",
      "execution_count": 3,
      "id": "f35ac27c",
      "metadata": {
        "id": "f35ac27c",
        "colab": {
          "base_uri": "https://localhost:8080/"
        },
        "outputId": "d0647d4d-8447-4569-8f56-2734b736efaa"
      },
      "outputs": [
        {
          "output_type": "stream",
          "name": "stdout",
          "text": [
            "Input: 6842\n",
            "2\n",
            "4\n",
            "8\n",
            "6\n",
            "Output: 2486\n"
          ]
        }
      ],
      "source": [
        "x = int(input(\"Input: \"))\n",
        "y = 0\n",
        "while x > 0:\n",
        "  digit = x % 10\n",
        "  x //= 10\n",
        "  y *= 10\n",
        "  y += digit\n",
        "print(\"Output:\", y)"
      ]
    },
    {
      "cell_type": "markdown",
      "id": "89040ea7",
      "metadata": {
        "id": "89040ea7"
      },
      "source": [
        "## Task 3 (1 point)\n",
        "\n",
        "Given an unsorted integer array \"numbers\", return the smallest missing positive integer.\n",
        "\n",
        "Example 1:\n",
        "\n",
        "```\n",
        "Input: numbers = [1, 2, 4, 6, 5, 0]\n",
        "Output: 3\n",
        "```\n",
        "\n",
        "Example 2:\n",
        "\n",
        "```\n",
        "Input: numbers = [3,4,-1,1]\n",
        "Output: 2\n",
        "```\n",
        "\n",
        "**Note**: Your program should work for any arbitraty array."
      ]
    },
    {
      "cell_type": "code",
      "execution_count": null,
      "id": "782170f2",
      "metadata": {
        "colab": {
          "base_uri": "https://localhost:8080/"
        },
        "id": "782170f2",
        "outputId": "58fafad7-38e7-4b5b-89b6-7b6ad7d0ab04"
      },
      "outputs": [
        {
          "output_type": "stream",
          "name": "stdout",
          "text": [
            "3\n"
          ]
        }
      ],
      "source": [
        "numbers = [1, 2, 4, 6, 5, 0]\n",
        "numbers.sort()\n",
        "for i in range(len(numbers)-1):\n",
        "  if i != 0 and numbers[i]+1 != numbers[i+1] :\n",
        "    print(numbers[i]+1)"
      ]
    },
    {
      "cell_type": "markdown",
      "id": "9f0f0213",
      "metadata": {
        "id": "9f0f0213"
      },
      "source": [
        "## Task 4 (1 point)\n",
        "\n",
        "Given an array of `intervals` where $intervals[i] = [start_i, end_i]$, merge all overlapping intervals, and *return an array of the non-overlapping intervals that cover all the intervals in the input.*\n",
        "\n",
        "Example 1:\n",
        "\n",
        "```\n",
        "Input: intervals = [[1, 4], [3, 6], [9, 11], [14, 19]]\n",
        "Output: [[1, 6], [9, 11], [14, 19]]\n",
        "```\n",
        "\n",
        "Example 2:\n",
        "\n",
        "```\n",
        "Input: intervals = [[1, 4], [3, 4], [4, 5]]\n",
        "Output: [[1,5]]\n",
        "```\n",
        "\n",
        "**Note**: Your program should work for any arbitraty input."
      ]
    },
    {
      "cell_type": "code",
      "execution_count": 11,
      "id": "a8905e37",
      "metadata": {
        "id": "a8905e37",
        "colab": {
          "base_uri": "https://localhost:8080/"
        },
        "outputId": "929d5ab8-c473-46a8-f7fb-064fa750332d"
      },
      "outputs": [
        {
          "output_type": "stream",
          "name": "stdout",
          "text": [
            "Input:[[1, 4], [3, 6], [9, 11], [14, 19]]\n",
            "Output: [[1, 6], [9, 11], [14, 19]]\n"
          ]
        }
      ],
      "source": [
        "ival0s = input(\"Input:\")[2:-2].split(\"], [\")\n",
        "\n",
        "ivals = {}\n",
        "for ival0 in ival0s:\n",
        "  x0, y0 = ival0.split(\", \")\n",
        "  x, y = int(x0), int(y0)\n",
        "  if x in ivals:\n",
        "    ivals[x] = max(ivals[x], y-x)\n",
        "  else: ivals[x] = y-x\n",
        "\n",
        "ival_xs = sorted(ivals.keys())\n",
        "for i in range(len(ival_xs)-1):\n",
        "  x1 = ival_xs[i]\n",
        "  if not x1 in ivals: continue\n",
        "  n1 = ivals[x1]\n",
        "\n",
        "  for j in range(i+1, len(ival_xs)):\n",
        "    x2 = ival_xs[j]\n",
        "    if not x2 in ivals: continue\n",
        "    n2 = ivals[x2]\n",
        "\n",
        "    if x1+n1 >= x2:\n",
        "      ivals[x1] = x2+n2-x1\n",
        "      del ivals[x2]\n",
        "    else: break\n",
        "\n",
        "ival_xs = sorted(ivals.keys())\n",
        "ival1s = []\n",
        "for x in ival_xs:\n",
        "  ival1s.append([x, x+ivals[x]])\n",
        "print(\"Output:\", ival1s)"
      ]
    },
    {
      "cell_type": "markdown",
      "id": "8a0edbe2",
      "metadata": {
        "id": "8a0edbe2"
      },
      "source": [
        "## Task 5 (1 point)\n",
        "\n",
        "\n",
        "Write a Python Program to calculate the total grade of `4` students with registration numbers; `A1`, `A2`, `A3`, and `A4` respectively using their homework and Exam scores.\n",
        "\n",
        "Specify if each student has passed or failed.\n",
        "\n",
        "Assuming their homework scores are `15, 7, 14, and 20`, respectively. Their exam scores are `68, 18, 48, and 40`, respectively.\n",
        "\n",
        "`total grade = (homework + exam) / 10`\n",
        "\n",
        "(If student grade is less than 4, it means failed while if the grade is greater than 4 it means passed)\n",
        "\n",
        "**Note 1**: Use the following grading system,\n",
        "\n",
        "- 8, 9, 10 --> Excelent\n",
        "- 6, 7 --> Good\n",
        "- 4, 5 --> Acceptable\n",
        "- lass than 4 --> Faild\n",
        "\n",
        "Example:\n",
        "\n",
        "```\n",
        "Input: students = {\n",
        "    A1: {'homework': 15, 'exam': 68},\n",
        "    A2: {'homework': 7, 'exam': 18},\n",
        "    A3: {'homework': 14, 'exam': 48},\n",
        "    A4: {'homework': 20, 'exam': 40}\n",
        "}\n",
        "\n",
        "Output:\n",
        "The student with registration number A1 <WRITE THE RESPECTIVE MESSAGE>\n",
        "The student with registration number A2 <WRITE THE RESPECTIVE MESSAGE>\n",
        "The student with registration number A3 <WRITE THE RESPECTIVE MESSAGE>\n",
        "The student with registration number A4 has passed, with final grade Good.\n",
        "```\n",
        "\n",
        "**Note 2**: Your program should work for any input dictionary of students detail."
      ]
    },
    {
      "cell_type": "code",
      "execution_count": null,
      "id": "5414b2cf",
      "metadata": {
        "colab": {
          "base_uri": "https://localhost:8080/"
        },
        "id": "5414b2cf",
        "outputId": "d85447a2-18c9-4dc3-f590-faaa642ce47e"
      },
      "outputs": [
        {
          "output_type": "stream",
          "name": "stdout",
          "text": [
            "The student with registration number A1 has passed, with final grade Excelent\n",
            "The student with registration number A2 has failed\n",
            "The student with registration number A3 has passed, with final grade Good\n",
            "The student with registration number A4 has passed, with final grade Good\n"
          ]
        }
      ],
      "source": [
        "students = {\n",
        "    'A1': {'homework': 15, 'exam': 68},\n",
        "    'A2': {'homework': 7, 'exam': 18},\n",
        "    'A3': {'homework': 14, 'exam': 48},\n",
        "    'A4': {'homework': 20, 'exam': 40}\n",
        "    }\n",
        "for student, score in students.items():\n",
        "  average_score = (score['homework']+score['exam'])/10\n",
        "  if average_score >= 8:\n",
        "    print(f'The student with registration number {student} has passed, with final grade Excelent')\n",
        "  elif 8 > average_score >= 6:\n",
        "    print(f'The student with registration number {student} has passed, with final grade Good')\n",
        "  elif 6 > average_score >= 4:\n",
        "    print(f'The student with registration number {student} has passed, with final grade Acceptable')\n",
        "  else: print(f'The student with registration number {student} has failed')\n",
        "\n"
      ]
    }
  ],
  "metadata": {
    "kernelspec": {
      "display_name": "Python 3 (ipykernel)",
      "language": "python",
      "name": "python3"
    },
    "language_info": {
      "codemirror_mode": {
        "name": "ipython",
        "version": 3
      },
      "file_extension": ".py",
      "mimetype": "text/x-python",
      "name": "python",
      "nbconvert_exporter": "python",
      "pygments_lexer": "ipython3",
      "version": "3.10.9"
    },
    "colab": {
      "provenance": []
    }
  },
  "nbformat": 4,
  "nbformat_minor": 5
}